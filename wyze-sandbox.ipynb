{
 "cells": [
  {
   "cell_type": "code",
   "execution_count": 48,
   "metadata": {},
   "outputs": [],
   "source": [
    "import os\n",
    "from wyze_sdk import Client\n",
    "from wyze_sdk.errors import WyzeApiError"
   ]
  },
  {
   "cell_type": "code",
   "execution_count": 49,
   "metadata": {},
   "outputs": [
    {
     "name": "stdout",
     "output_type": "stream",
     "text": [
      "access token: lvtx.AaiBJ+K9+9PxDzasSMmjBx5FfOM5QSvj3jkgT25TDn+AidnFnB0JIMNr6MJUGhE4mXL5vwaMzEC6Xhl4QdGIHfEEOElNi4NCuqXrxpxMRo6ETgPNHlLoWcO3NvzgMj+ZYcqNlRz0SGHcIzU+iOFA+Bs9C6crrK9n43vKXOoRgLtbuvYF07wd64vwKFKKkJv//XvAUg==\n",
      "refresh token: lvtx.i+bKXj+yaNhTOAQlLtgPDr7aGStvldrxH+2Ppck59bjc0YVrTQtESdEeV/WQNiMwfLyPi3dDsJaMGEtdykV19vkxadweUjFDt6l9FerIY+gJ4lKS5AxKioE2AkNKOMYoxPgqCp6rsVLDsD6BqCyH4zVPAUs4oATEXq5LC2TKUs7IvI8ElI5IQJKQxSMKzYknIl705w==\n"
     ]
    }
   ],
   "source": [
    "email = \"\"\n",
    "password = \"\"\n",
    "\n",
    "wyze_response = Client().login(email=email, password=password)   # Create a new client and Login to the client \n",
    "wyze_access_token = wyze_response['access_token'] # Get the access token\n",
    "wyze_refresh_token = wyze_response['refresh_token'] # Get the refresh token\n",
    "print(f\"access token: {wyze_access_token}\") # Print the access token\n",
    "print(f\"refresh token: {wyze_refresh_token}\") # Print the refresh token\n"
   ]
  },
  {
   "cell_type": "code",
   "execution_count": 3,
   "metadata": {},
   "outputs": [
    {
     "ename": "KeyError",
     "evalue": "'WYZE_USER'",
     "output_type": "error",
     "traceback": [
      "\u001b[0;31m---------------------------------------------------------------------------\u001b[0m",
      "\u001b[0;31mKeyError\u001b[0m                                  Traceback (most recent call last)",
      "Cell \u001b[0;32mIn[3], line 3\u001b[0m\n\u001b[1;32m      1\u001b[0m \u001b[39mimport\u001b[39;00m \u001b[39mos\u001b[39;00m\n\u001b[0;32m----> 3\u001b[0m email \u001b[39m=\u001b[39m os\u001b[39m.\u001b[39;49menviron[\u001b[39m'\u001b[39;49m\u001b[39mWYZE_USER\u001b[39;49m\u001b[39m'\u001b[39;49m]\n\u001b[1;32m      4\u001b[0m password \u001b[39m=\u001b[39m os\u001b[39m.\u001b[39menviron[\u001b[39m'\u001b[39m\u001b[39mWYZE_PSWD\u001b[39m\u001b[39m'\u001b[39m]\n\u001b[1;32m      6\u001b[0m \u001b[39mprint\u001b[39m(\u001b[39mf\u001b[39m\u001b[39m\"\u001b[39m\u001b[39memail: \u001b[39m\u001b[39m{\u001b[39;00memail\u001b[39m}\u001b[39;00m\u001b[39m\"\u001b[39m)\n",
      "File \u001b[0;32m<frozen os>:678\u001b[0m, in \u001b[0;36m__getitem__\u001b[0;34m(self, key)\u001b[0m\n",
      "\u001b[0;31mKeyError\u001b[0m: 'WYZE_USER'"
     ]
    }
   ],
   "source": [
    "import os\n",
    "\n",
    "email = os.environ['WYZE_USER']\n",
    "password = os.environ['WYZE_PSWD']\n",
    "\n",
    "print(f\"email: {email}\")\n",
    "print(f\"password: {password}\")"
   ]
  },
  {
   "cell_type": "code",
   "execution_count": 5,
   "metadata": {},
   "outputs": [
    {
     "ename": "ImportError",
     "evalue": "cannot import name 'WyzeApi' from 'wyze_sdk' (/opt/homebrew/Caskroom/miniforge/base/envs/env_dev_py311/lib/python3.11/site-packages/wyze_sdk/__init__.py)",
     "output_type": "error",
     "traceback": [
      "\u001b[0;31m---------------------------------------------------------------------------\u001b[0m",
      "\u001b[0;31mImportError\u001b[0m                               Traceback (most recent call last)",
      "Cell \u001b[0;32mIn[5], line 1\u001b[0m\n\u001b[0;32m----> 1\u001b[0m \u001b[39mfrom\u001b[39;00m \u001b[39mwyze_sdk\u001b[39;00m \u001b[39mimport\u001b[39;00m WyzeApi\n\u001b[1;32m      3\u001b[0m email \u001b[39m=\u001b[39m \u001b[39m'\u001b[39m\u001b[39mjesstiff17@gmail.com\u001b[39m\u001b[39m'\u001b[39m\n\u001b[1;32m      4\u001b[0m password \u001b[39m=\u001b[39m \u001b[39m'\u001b[39m\u001b[39mkittyminky11\u001b[39m\u001b[39m'\u001b[39m\n",
      "\u001b[0;31mImportError\u001b[0m: cannot import name 'WyzeApi' from 'wyze_sdk' (/opt/homebrew/Caskroom/miniforge/base/envs/env_dev_py311/lib/python3.11/site-packages/wyze_sdk/__init__.py)"
     ]
    }
   ],
   "source": [
    "from wyze_sdk import WyzeApi\n",
    "\n",
    "\n",
    "\n",
    "api = WyzeApi(email, password)\n",
    "api.authenticate()\n",
    "\n",
    "devices = api.get_devices()\n",
    "camera = devices[0]  # assuming the first device is a camera\n",
    "\n",
    "events_client = api.get_events_client(camera)\n",
    "events = events_client.list_events()\n",
    "for event in events:\n",
    "    print(f\"Event type: {event['type']}\")\n"
   ]
  }
 ],
 "metadata": {
  "kernelspec": {
   "display_name": "env_dev_py311",
   "language": "python",
   "name": "python3"
  },
  "language_info": {
   "codemirror_mode": {
    "name": "ipython",
    "version": 3
   },
   "file_extension": ".py",
   "mimetype": "text/x-python",
   "name": "python",
   "nbconvert_exporter": "python",
   "pygments_lexer": "ipython3",
   "version": "3.11.0"
  },
  "orig_nbformat": 4
 },
 "nbformat": 4,
 "nbformat_minor": 2
}
